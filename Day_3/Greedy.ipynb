{
 "metadata": {
  "language_info": {
   "codemirror_mode": {
    "name": "ipython",
    "version": 3
   },
   "file_extension": ".py",
   "mimetype": "text/x-python",
   "name": "python",
   "nbconvert_exporter": "python",
   "pygments_lexer": "ipython3",
   "version": "3.8.6-final"
  },
  "orig_nbformat": 2,
  "kernelspec": {
   "name": "python3",
   "display_name": "Python 3.8.6 64-bit",
   "metadata": {
    "interpreter": {
     "hash": "aee8b7b246df8f9039afb4144a1f6fd8d2ca17a180786b69acc140d282b71a49"
    }
   }
  }
 },
 "nbformat": 4,
 "nbformat_minor": 2,
 "cells": [
  {
   "cell_type": "code",
   "execution_count": 1,
   "metadata": {},
   "outputs": [
    {
     "output_type": "stream",
     "name": "stdout",
     "text": [
      "6\n"
     ]
    }
   ],
   "source": [
    "'''\n",
    "예제 3-1 거스름돈\n",
    "당신은 음식점의 계산을 도와주는 점원이다. 카운터에는 거스름돈으로 사용할 500원, 100원, 50원, 10원짜리 동전이 무한히 존재한다고 가정한다.\n",
    "손님에게 거슬러 줘야 할 돈이 N원일 때 거슬러줘야 할 동전의 최소 개수를 구하라.\n",
    "단, 거슬러 줘야 할 돈 N은 항상 10의 배수이다.\n",
    "'''\n",
    "#내 답안(예제 3-1 거스름돈) O(n**2)\n",
    "n = int(input())\n",
    "count = 0\n",
    "while n != 0:\n",
    "    while n >= 500:\n",
    "        n -= 500\n",
    "        count += 1\n",
    "    while n >= 100 and n < 500:\n",
    "        n -= 100\n",
    "        count += 1\n",
    "    while n >= 50 and n < 100:\n",
    "        n -= 50            \n",
    "        count += 1\n",
    "    while n >= 10 and n < 50:\n",
    "        n -= 10\n",
    "        count += 1\n",
    "    if n == 0:\n",
    "        print(count)\n",
    "            "
   ]
  },
  {
   "cell_type": "code",
   "execution_count": 2,
   "metadata": {},
   "outputs": [
    {
     "output_type": "stream",
     "name": "stdout",
     "text": [
      "6\n"
     ]
    }
   ],
   "source": [
    "#모범 답안(예제 3-1 거스름돈) O(n)\n",
    "n = int(input())\n",
    "count = 0\n",
    "\n",
    "#큰 단위의 화폐부터 차례로 확인\n",
    "coinTypes = [500, 100, 50, 10]\n",
    "\n",
    "for coin in coinTypes:\n",
    "    count += n // coin\n",
    "    n %= coin \n",
    "\n",
    "print(count)"
   ]
  },
  {
   "cell_type": "code",
   "execution_count": 35,
   "metadata": {},
   "outputs": [
    {
     "output_type": "stream",
     "name": "stdout",
     "text": [
      "[3, 4, 3, 4, 3]\n[3, 3, 3, 4, 4]\n28\n"
     ]
    }
   ],
   "source": [
    "'''\n",
    "실전 문제: 큰수의 법칙\n",
    "다양한 수로 이루어진 배열이 있을 때 주어진 수들을 M번 더하여 가장 큰 수를 만드는 법칙이다.\n",
    "단 배역의 특정한 인덱스에 해당하는 수가 연속해서 K번을 초과하여 더해질 수 없는 것이 이 법칙의 특징이다.\n",
    "예시\n",
    "[2, 4, 5, 4, 6]\n",
    "M = 8\n",
    "K = 3\n",
    "특정한 인덱스의 수가 연속해서 세 번까지만 더해질 수 있으므로 6+6+6+5+6+6+6+5=46\n",
    "[3, 4, 3, 4, 3]\n",
    "M = 7\n",
    "K = 2\n",
    "4+4+4+4+4+4+4=28\n",
    "'''\n",
    "#내 답안(큰수의 법칙)\n",
    "n, m, k = map(int, input().split())\n",
    "numList = list(map(int, input().split()))\n",
    "numList.sort()\n",
    "sum = 0\n",
    "maxNum = 0\n",
    "index = m//(k+1)\n",
    "rest = m%(k+1)\n",
    "if m%(k+1) == 0:\n",
    "    sumNum = index * (k * numList[-1] + numList[-2])\n",
    "else:\n",
    "    sumNum = index * (k * numList[-1] + numList[-2]) + rest * numList[-1]\n",
    "print(sumNum)"
   ]
  },
  {
   "cell_type": "code",
   "execution_count": 36,
   "metadata": {},
   "outputs": [
    {
     "output_type": "stream",
     "name": "stdout",
     "text": [
      "46\n"
     ]
    }
   ],
   "source": [
    "#단순하게 푸는 답안 예시(큰수의 법칙)\n",
    "n, m, k = map(int, input().split())\n",
    "data = list(map(int, input().split()))\n",
    "\n",
    "data.sort()\n",
    "first = data[n-1]\n",
    "second = data[n-2]\n",
    "\n",
    "result = 0\n",
    "\n",
    "while True:\n",
    "    for i in range(k):\n",
    "        if m == 0:\n",
    "            break\n",
    "        result += first\n",
    "        m -= 1\n",
    "    if m == 0:\n",
    "        break\n",
    "    result += second\n",
    "    m -= 1\n",
    "\n",
    "print(result)"
   ]
  },
  {
   "cell_type": "code",
   "execution_count": 37,
   "metadata": {},
   "outputs": [
    {
     "output_type": "stream",
     "name": "stdout",
     "text": [
      "46\n"
     ]
    }
   ],
   "source": [
    "#모범 답안(큰수의 법칙)\n",
    "n, m, k = map(int, input().split())\n",
    "data = list(map(int, input().split()))\n",
    "\n",
    "data.sort()\n",
    "first = data[n-1]\n",
    "second = data[n-2]\n",
    "\n",
    "count = int(m / (k + 1)) * k\n",
    "count += m % (k + 1)\n",
    "\n",
    "result = 0\n",
    "result += (count) * first\n",
    "result += (m - count) * second\n",
    "\n",
    "print(result)\n"
   ]
  },
  {
   "cell_type": "code",
   "execution_count": 48,
   "metadata": {},
   "outputs": [
    {
     "output_type": "stream",
     "name": "stdout",
     "text": [
      "3\n"
     ]
    }
   ],
   "source": [
    "'''\n",
    "실전 문제: 숫자 카드 게임\n",
    "숫자 카드 게임은 여러 갸의 숫자 카드 중에서 가장 높은 숫자가 쓰인 카드 한 장을 뽑는 게임이다.\n",
    "단, 게임의 룰을 지키며 카드를 뽑아야 하고 룰은 다음과 같다.\n",
    "\n",
    "1. 숫자가 쓰인 카드들이 N * M 형태로 놓여 있다. 이때 N은 행의 개수를 의미하며, M은 열의 개수를 의미한다.\n",
    "2. 먼저 뽑고자 하는 카드가 포함되어 있는 행을 선택한다. \n",
    "3. 그다음 선택된 행에 포함된 카드들 중 가장 숫자가 낮은 카드를 뽑아야 한다.\n",
    "4. 따라서 처음에 카드를 골라낼 행을 선택할 때, 이후에 해당 행에서 가장 숫자가 낮은 카드를 뽑을 것을 고려하여 최종적으로 가장 높은 숫자의 카드를 뽑을 수 있도록 전략을 세워야 한다.\n",
    "'''\n",
    "\n",
    "n, m = map(int, input().split())\n",
    "mp = [[0]*n for i in range(m)]\n",
    "minNum = []\n",
    "for i in range(n):\n",
    "    mp[i] = list(map(int, input().split()))\n",
    "    num = min(mp[i])\n",
    "    minNum.insert(i,num)\n",
    "print(max(minNum))"
   ]
  },
  {
   "cell_type": "code",
   "execution_count": 50,
   "metadata": {},
   "outputs": [
    {
     "output_type": "stream",
     "name": "stdout",
     "text": [
      "2\n"
     ]
    }
   ],
   "source": [
    "#min()함수를 이용하는 모범 답안(숫자 카드 게임)\n",
    "n, m = map(int, input().split())\n",
    "\n",
    "result = 0\n",
    "for i in range(n):\n",
    "    data = list(map(int, input().split()))\n",
    "    minValue = min(data)\n",
    "    result = max(result, minValue)\n",
    "print(result)"
   ]
  },
  {
   "cell_type": "code",
   "execution_count": 51,
   "metadata": {},
   "outputs": [
    {
     "output_type": "stream",
     "name": "stdout",
     "text": [
      "2\n"
     ]
    }
   ],
   "source": [
    "#2중 반복문을 이용하는 모범 답안(숫자 카드 게임)\n",
    "n, m = map(int, input().split())\n",
    "\n",
    "result = 0\n",
    "for i in range(n):\n",
    "    data = list(map(int, input().split()))\n",
    "    minValue = 10001\n",
    "    for a in data:\n",
    "        minValue = min(minValue, a)\n",
    "    result = max(result, minValue)\n",
    "print(result)"
   ]
  },
  {
   "cell_type": "code",
   "execution_count": null,
   "metadata": {},
   "outputs": [],
   "source": [
    "'''\n",
    "실전 문제: 1이 될 때까지\n",
    "어떠한 수 N이 1이 될 때까지 다음의 두 과정 중 하나를 반복적으로 선택하여 수행하려고 한다.\n",
    "단, 두 번째 연산은 N이 K로 나누어떨어질 때만 선택할 수 있다.\n",
    "    1. N에서 1을 뺀다.\n",
    "    2. N을 K로 나눈다.\n",
    "'''"
   ]
  }
 ]
}