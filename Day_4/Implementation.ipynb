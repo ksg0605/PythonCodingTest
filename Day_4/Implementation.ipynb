{
 "metadata": {
  "language_info": {
   "codemirror_mode": {
    "name": "ipython",
    "version": 3
   },
   "file_extension": ".py",
   "mimetype": "text/x-python",
   "name": "python",
   "nbconvert_exporter": "python",
   "pygments_lexer": "ipython3",
   "version": "3.8.6-final"
  },
  "orig_nbformat": 2,
  "kernelspec": {
   "name": "python3",
   "display_name": "Python 3.8.6 64-bit",
   "metadata": {
    "interpreter": {
     "hash": "aee8b7b246df8f9039afb4144a1f6fd8d2ca17a180786b69acc140d282b71a49"
    }
   }
  }
 },
 "nbformat": 4,
 "nbformat_minor": 2,
 "cells": [
  {
   "cell_type": "code",
   "execution_count": 10,
   "metadata": {},
   "outputs": [
    {
     "output_type": "stream",
     "name": "stdout",
     "text": [
      "3 4\n"
     ]
    }
   ],
   "source": [
    "'''\n",
    "110p 예제 4-1 상하좌우문제 내 답안 \n",
    "입력) \n",
    "N*N 공간의 크기 n\n",
    "이동계획(R, L, U, D)\n",
    "입력예시)\n",
    "5\n",
    "R R R U D D\n",
    "출력)\n",
    "공백으로 구분하여 출력\n",
    "출력예시)\n",
    "3 4\n",
    "'''\n",
    "# 예제 4-1 상하좌우(내 답안) \n",
    "n = int(input())\n",
    "move = list(map(str, input().split()))\n",
    "i = 1\n",
    "j = 1\n",
    "for k in move:\n",
    "    #if i < n and j < n:\n",
    "    if k == 'R' and j != n:\n",
    "        j += 1\n",
    "    elif k == 'L' and j != 1:\n",
    "        j -= 1\n",
    "    elif k == 'U' and i != 1:\n",
    "        i -= 1\n",
    "    elif k == 'D' and i != n:\n",
    "        i += 1\n",
    "print(i, j)"
   ]
  },
  {
   "cell_type": "code",
   "execution_count": 13,
   "metadata": {},
   "outputs": [
    {
     "output_type": "stream",
     "name": "stdout",
     "text": [
      "3 4\n"
     ]
    }
   ],
   "source": [
    "# 예제 4-1 상하좌우(모범 답안)\n",
    "n = int(input())\n",
    "x, y = 1, 1\n",
    "plans = input().split()\n",
    "\n",
    "dx = [0, 0, -1, 1]\n",
    "dy = [-1, 1, 0, 0]\n",
    "move_types = ['L', 'R', 'U', 'D']\n",
    "\n",
    "for plan in plans:\n",
    "    for i in range(len(move_types)):\n",
    "        if plan == move_types[i]:\n",
    "            nx = x + dx[i]\n",
    "            ny = y + dy[i]\n",
    "    if nx < 1 or ny < 1 or nx > n or ny > n:\n",
    "        continue\n",
    "    x, y = nx, ny\n",
    "\n",
    "print(x, y)"
   ]
  },
  {
   "cell_type": "code",
   "execution_count": 21,
   "metadata": {},
   "outputs": [
    {
     "output_type": "stream",
     "name": "stdout",
     "text": [
      "11475\n"
     ]
    }
   ],
   "source": [
    "'''\n",
    "정수 n이 입력되면 00시 00분 00초부터 n시 59분 59초까지의 모든 시각 중에서 3이 하나라고 포함되는 모든 경우의 수를 구하는 프로그램은 작성하시오.\n",
    "예를 들어 1을 입력했을 때 다음은 3이 하나라도 포함되어 있으므로 세어야 하는 시각이다. \n",
    " /00시 00분 03초\n",
    " /01시 27분 30초\n",
    "반면에 다음은 3이 하나도 포함되어 있지 안으므로 세면 안 되는 시각이다.\n",
    " /00시 02분 55초\n",
    " /01시 27분 45초\n",
    "입력 예시)\n",
    "5\n",
    "출력 예시)\n",
    "11475\n",
    "'''\n",
    "# 예제 4-2 시각(내 답안)\n",
    "n = int(input())\n",
    "count = 0\n",
    "for time in range(0, n+1):\n",
    "    for minute in range(0, 60):\n",
    "        for sec in range(0, 60):\n",
    "            setTime = str(time) + str(minute)+ str(sec)\n",
    "            if '3' in setTime:\n",
    "                count += 1\n",
    "print(count)"
   ]
  },
  {
   "cell_type": "code",
   "execution_count": 22,
   "metadata": {},
   "outputs": [
    {
     "output_type": "stream",
     "name": "stdout",
     "text": [
      "11475\n"
     ]
    }
   ],
   "source": [
    "# 예제 4-2 시각(모범 답안)\n",
    "h = int(input())\n",
    "\n",
    "count = 0\n",
    "for i in range(h+1):\n",
    "    for j in range(60):\n",
    "        for k in range(60):\n",
    "            if '3' in str(i) + str(j) + str(k):\n",
    "                count += 1\n",
    "print(count)"
   ]
  },
  {
   "cell_type": "code",
   "execution_count": 38,
   "metadata": {},
   "outputs": [
    {
     "output_type": "stream",
     "name": "stdout",
     "text": [
      "6\n"
     ]
    }
   ],
   "source": [
    "'''\n",
    "나이트는 말을 타고 있기 때문에 이동을 할 때에는 L자 형태로만 이동할 수 있으며 정원 밖으로는 나갈 수 없다.\n",
    "나이트는 특정한 위치에서 다음과 같은 2가지 경으로 이동할 수 있다.\n",
    "1. 수평으로 두 칸 이동한 뒤에 수직으로 한 칸 이동하기\n",
    "2. 수직으로 두 칸 이동한 뒤에 수평으로 한 칸 이동하기\n",
    "8x8 좌표 평면에서 나이트의 위치가 주어졌을 떄 나이트가 이동항 수 있는 경우의 수를 츨력하는 프로그램을 작성하시오 \n",
    "이때 왕실의 정원에서 행 위치를 표현할 때는 1부터 8로 표현하며, 열 위치를 표현할 때는 a부터 h로 표현한다.\n",
    "\n",
    "입력 조건)\n",
    "첫째 줄에 8X8 좌표 평면상에서 현재 나이트가 위치한 곳의 좌표를 나타내는 두 문자로 구성된 문자열이 입력된다.\n",
    "입력 문자는 a1처럼 열과 행으로 이뤄진다.\n",
    "\n",
    "출력 조건)\n",
    "첫쨰 줄에 나이트가 이동할 수 있는 경우의 수를 출력하시오\n",
    "\n",
    "입력)\n",
    "a1\n",
    "\n",
    "출력)\n",
    "2\n",
    "'''\n",
    "# 실전문제 4-3 왕실의 나이트(내 답안)\n",
    "n = str(input())\n",
    "col = int(n[1])\n",
    "row = ord(n[0])-ord('a')+1\n",
    "count = 0\n",
    "knight = [[1, 2], [1, -2], [-1, 2], [-1, -2], [2, 1], [2, -1], [-2, 1], [-2, -1]]\n",
    "\n",
    "for i in range(len(knight)):\n",
    "    dx = row - knight[i][0]\n",
    "    dy = col - knight[i][1]\n",
    "    if (dx > 0 and dx <= 8) and (dy > 0 and dy <= 8):\n",
    "        count += 1\n",
    "print(count)"
   ]
  },
  {
   "cell_type": "code",
   "execution_count": 44,
   "metadata": {},
   "outputs": [
    {
     "output_type": "stream",
     "name": "stdout",
     "text": [
      "6\n"
     ]
    }
   ],
   "source": [
    "# 실전문제 4-3 왕실의 나이트(모범 답안)\n",
    "input_data = input()\n",
    "row = int(input_data[1])\n",
    "column = ord(input_data[0]) - ord('a') + 1 \n",
    "\n",
    "steps = [(-2, -1), (-1, -2), (1, -2), (2, -1), (2, 1), (1, 2), (-1, 2), (-2, 1)]\n",
    "\n",
    "result = 0\n",
    "for step in steps:\n",
    "    next_row = row + step[0]\n",
    "    next_column = column + step[1]\n",
    "    if next_row >= 1 and next_row <= 8 and next_column >= 1 and next_column <= 8:\n",
    "        result += 1\n",
    "print(result)"
   ]
  },
  {
   "cell_type": "code",
   "execution_count": 48,
   "metadata": {},
   "outputs": [
    {
     "output_type": "stream",
     "name": "stdout",
     "text": [
      "3\n"
     ]
    }
   ],
   "source": [
    "'''\n",
    "캐릭터가 맵 안에서 움직이는 시스템을 개발 중이다.\n",
    "캐릭터가 있는 장소는 1 x 1크기의 정사각형으로 이뤄진 N x M 크기의 직사각형으로, 각각의 칸은 육지 또는 바다이다.\n",
    "캐릭터는 동서남북 중 한 곳을 바라본다.\n",
    "맵의 각 칸은 (A, B)로 나타낼 수 있고, A는 북쪽으로부터 떨어진 칸의 개수, B는 서쪽으로부터 떨어진 칸의 개수이다.\n",
    "캐릭터는 상하좌우로 움직일 수 있고, 바다로 되어 있는 공간에는 갈 수 없다.\n",
    "캐릭터의 움직임을 설정하기 위해 정해 놓은 매뉴얼은 이러하다.\n",
    "1. 현재 위치에서 현재 방향을 기준으로 왼쪽 방향부터 차례대로 갈 곳을 정한다.\n",
    "2. 캐릭터의 바로 왼쪽 방향에 아직 가보지 않은 칸이 존재란다면, 왼쪽 방향으로 회전한 다음 왼쪽으로 한 칸은 전진한다.\n",
    "   왼쪽 방향에 가보지 않은 칸이 없다면, 왼쪽 방향으로 회전만 수행하고 1단계로 돌아간다.\n",
    "3. 만약 네 방향모두 이미 가본 칸이거나 바다로 되어 있는 칸인 경우에는, 바라보는 방향을 유지한 채로 한 칸 뒤로 가고 1단계로 돌아간다.\n",
    "   단, 이떄 뒤쪽 방향이 바다인 칸이라 뒤로 갈 수 없는 경우에는 움직임을 멈춘다.\n",
    "매뉴얼에 따라 캐릭터를 이동시킨 뒤에, 캐릭터가 방문한 칸의 수를 출력하는 프로그램을 만드시오.\n",
    "\n",
    "입력 조건)\n",
    "1. 첫째 줄에 맵의 세로 크기 N과 가로 크기 M을 공백으로 구분하여 입력한다.(3 <= N, M <= 50)\n",
    "2. 둘째 주렝 게임 캐릭터가 있는 칸의 좌표 (A, B)와 바라보는 방향 d가 각각 서로 공백으로 구분하여 주어진다. 방향 d의 값으로는 다음과 같이 4가지가 존재한다.\n",
    "    - 0: 북쪽\n",
    "    - 1: 동쪽\n",
    "    - 2: 남쪽\n",
    "    - 3: 서쪽\n",
    "3. 셋째 줄부터 맵이 육지인지 바다인지에 대한 정보가 주어진다. N개의 주렝 맵의 상태가 북쪽부터 남쪽 순서대로, 각 줄의 데이터는 서쪽부터 동쪽 순서대로 주어진다. 맵의 외곽은 항상 바다로 되어 있다.\n",
    "    - 0: 육지\n",
    "    - 1: 바다\n",
    "4. 처음에 게임 캐릭터가 위치한 칸의 상태는 항상 육지이다.\n",
    "\n",
    "출력 조건)\n",
    "첫째 줄에 이동을 마친 후 캐릭터가 방문한 칸의 수를 출력한다. \n",
    "\n",
    "입력 예시)\n",
    "4 4\n",
    "1 1 0\n",
    "1 1 1 1\n",
    "1 0 0 1\n",
    "1 1 0 1\n",
    "1 1 1 1\n",
    "\n",
    "출력 예시)\n",
    "3\n",
    "'''\n",
    "# 실전 문제 4-4 게임 개발(내 답안)\n",
    "n, m = map(int, input().split())\n",
    "x, y, direction = map(int, input().split())\n",
    "d = [[0]*n for i in range(m)]\n",
    "dx = [-1, 0, 1, 0]\n",
    "dy = [0, 1, 0, -1]\n",
    "\n",
    "array = []\n",
    "for i in range(n):\n",
    "    array.append(list(map(int, input().split())))\n",
    "\n",
    "def turnLeft():\n",
    "    global direction\n",
    "    direction -= 1\n",
    "    if direction == -1:\n",
    "        direction = 3\n",
    "\n",
    "count = 1\n",
    "turnTime = 0\n",
    "while True:\n",
    "    turnLeft()\n",
    "    nx = x + dx[direction]\n",
    "    ny = y + dy[direction]\n",
    "    if d[nx][ny] == 0 and array[nx][ny] == 0:\n",
    "        d[nx][ny] = 1\n",
    "        x = nx\n",
    "        y = ny\n",
    "        count += 1\n",
    "        turnTime = 0\n",
    "        continue\n",
    "    else:\n",
    "        turnTime += 1\n",
    "    if turnTime == 4:\n",
    "        nx = x - dx[direction]\n",
    "        ny = y - dy[direction]\n",
    "        if array[nx][ny]:\n",
    "            x = nx\n",
    "            y = ny\n",
    "        else:\n",
    "            break\n",
    "print(count)"
   ]
  },
  {
   "cell_type": "code",
   "execution_count": null,
   "metadata": {},
   "outputs": [],
   "source": []
  }
 ]
}