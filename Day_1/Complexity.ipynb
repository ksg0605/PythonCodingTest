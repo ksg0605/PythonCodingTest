{
 "metadata": {
  "language_info": {
   "codemirror_mode": {
    "name": "ipython",
    "version": 3
   },
   "file_extension": ".py",
   "mimetype": "text/x-python",
   "name": "python",
   "nbconvert_exporter": "python",
   "pygments_lexer": "ipython3",
   "version": "3.8.6-final"
  },
  "orig_nbformat": 2,
  "kernelspec": {
   "name": "python3",
   "display_name": "Python 3.8.6 64-bit",
   "metadata": {
    "interpreter": {
     "hash": "aee8b7b246df8f9039afb4144a1f6fd8d2ca17a180786b69acc140d282b71a49"
    }
   }
  }
 },
 "nbformat": 4,
 "nbformat_minor": 2,
 "cells": [
  {
   "cell_type": "code",
   "execution_count": 1,
   "metadata": {},
   "outputs": [
    {
     "output_type": "stream",
     "name": "stdout",
     "text": [
      "15\n"
     ]
    }
   ],
   "source": [
    "#Python 3.8.6\n",
    "array = [3, 5, 1, 2, 4]\n",
    "summary = 0\n",
    "\n",
    "for x in array:\n",
    "    summary += x\n",
    "\n",
    "print(summary)"
   ]
  },
  {
   "cell_type": "code",
   "execution_count": 2,
   "metadata": {},
   "outputs": [
    {
     "output_type": "stream",
     "name": "stdout",
     "text": [
      "9\n15\n3\n6\n12\n15\n25\n5\n10\n20\n3\n5\n1\n2\n4\n6\n10\n2\n4\n8\n12\n20\n4\n8\n16\n"
     ]
    }
   ],
   "source": [
    "for i in array:\n",
    "    for j in array:\n",
    "        temp = i * j\n",
    "        print(temp)"
   ]
  },
  {
   "cell_type": "code",
   "execution_count": 3,
   "metadata": {},
   "outputs": [
    {
     "output_type": "stream",
     "name": "stdout",
     "text": [
      "time : 2.4080276489257812e-05\n"
     ]
    }
   ],
   "source": [
    "#시간과 메모리 측정\n",
    "import time\n",
    "startTime = time.time() #측정시작\n",
    "\n",
    "endTime = time.time() #측정종료\n",
    "print(\"time :\", endTime - startTime) #수행시간 출력"
   ]
  },
  {
   "cell_type": "code",
   "execution_count": 5,
   "metadata": {},
   "outputs": [
    {
     "output_type": "stream",
     "name": "stdout",
     "text": [
      "selectionSortTime : 7.6600258350372314\nnormalSortTime : 0.0009942054748535156\n"
     ]
    }
   ],
   "source": [
    "#선택 정렬과 기본 정렬 라이브러리의 수행 시간 비교\n",
    "from random import randint\n",
    "import time\n",
    "\n",
    "array = []\n",
    "for _ in range(10000):\n",
    "    array.append(randint(1, 100))\n",
    "\n",
    "startTime = time.time()\n",
    "\n",
    "for i in range(len(array)):\n",
    "    minIndex = i\n",
    "    for j in range(i + 1, len(array)):\n",
    "        if array[minIndex] > array[j]:\n",
    "            minIndex = j\n",
    "    array[i], array[minIndex] = array[minIndex], array[i]\n",
    "\n",
    "endTime = time.time()\n",
    "print(\"selectionSortTime :\", endTime - startTime)\n",
    "\n",
    "array = []\n",
    "for _ in range(10000):\n",
    "    array.append(randint(1, 100))\n",
    "\n",
    "startTime = time.time()\n",
    "\n",
    "array.sort()\n",
    "\n",
    "endTime = time.time()\n",
    "print(\"normalSortTime :\", endTime - startTime)"
   ]
  },
  {
   "cell_type": "code",
   "execution_count": 6,
   "metadata": {},
   "outputs": [
    {
     "output_type": "stream",
     "name": "stdout",
     "text": [
      "'Hello'\n"
     ]
    }
   ],
   "source": [
    "print(\"'Hello'\")"
   ]
  },
  {
   "cell_type": "code",
   "execution_count": 7,
   "metadata": {},
   "outputs": [
    {
     "output_type": "stream",
     "name": "stdout",
     "text": [
      "\"Hello World\"\n"
     ]
    }
   ],
   "source": [
    "print('\"Hello World\"')"
   ]
  },
  {
   "cell_type": "code",
   "execution_count": null,
   "metadata": {},
   "outputs": [],
   "source": []
  }
 ]
}